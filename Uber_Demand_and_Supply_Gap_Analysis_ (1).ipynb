{
  "nbformat": 4,
  "nbformat_minor": 0,
  "metadata": {
    "colab": {
      "private_outputs": true,
      "provenance": [],
      "collapsed_sections": [
        "PH-0ReGfmX4f",
        "MSa1f5Uengrz",
        "GF8Ens_Soomf",
        "0wOQAZs5pc--",
        "K5QZ13OEpz2H",
        "lQ7QKXXCp7Bj",
        "448CDAPjqfQr",
        "KSlN3yHqYklG",
        "t6dVpIINYklI",
        "ijmpgYnKYklI",
        "-JiQyfWJYklI",
        "EM7whBJCYoAo",
        "fge-S5ZAYoAp",
        "85gYPyotYoAp",
        "RoGjAbkUYoAp",
        "4Of9eVA-YrdM",
        "iky9q4vBYrdO",
        "F6T5p64dYrdO",
        "y-Ehk30pYrdP",
        "bamQiAODYuh1",
        "QHF8YVU7Yuh3",
        "GwzvFGzlYuh3",
        "qYpmQ266Yuh3",
        "OH-pJp9IphqM",
        "bbFf2-_FphqN",
        "_ouA3fa0phqN",
        "Seke61FWphqN",
        "PIIx-8_IphqN",
        "t27r6nlMphqO",
        "r2jJGEOYphqO",
        "b0JNsNcRphqO",
        "BZR9WyysphqO",
        "jj7wYXLtphqO",
        "eZrbJ2SmphqO",
        "rFu4xreNphqO",
        "YJ55k-q6phqO",
        "gCFgpxoyphqP",
        "OVtJsKN_phqQ",
        "lssrdh5qphqQ",
        "U2RJ9gkRphqQ",
        "1M8mcRywphqQ",
        "tgIPom80phqQ",
        "JMzcOPDDphqR",
        "x-EpHcCOp1ci",
        "X_VqEhTip1ck",
        "8zGJKyg5p1ck",
        "PVzmfK_Ep1ck",
        "n3dbpmDWp1ck",
        "ylSl6qgtp1ck",
        "ZWILFDl5p1ck",
        "M7G43BXep1ck",
        "Ag9LCva-p1cl",
        "E6MkPsBcp1cl",
        "2cELzS2fp1cl",
        "3MPXvC8up1cl",
        "NC_X3p0fY2L0",
        "UV0SzAkaZNRQ",
        "YPEH6qLeZNRQ",
        "q29F0dvdveiT",
        "EXh0U9oCveiU",
        "22aHeOlLveiV",
        "8G2x9gOozGDZ",
        "gIfDvo9L0UH2"
      ]
    },
    "kernelspec": {
      "name": "python3",
      "display_name": "Python 3"
    },
    "language_info": {
      "name": "python"
    }
  },
  "cells": [
    {
      "cell_type": "markdown",
      "source": [
        "# **Project Name - Uber Request Demand and Supply Gap Analysis**\n",
        "\n"
      ],
      "metadata": {
        "id": "vncDsAP0Gaoa"
      }
    },
    {
      "cell_type": "markdown",
      "source": [
        "##### **Project Type**    - Exploratory Data Analysis\n",
        "##### **Contribution**    - Individual"
      ],
      "metadata": {
        "id": "beRrZCGUAJYm"
      }
    },
    {
      "cell_type": "markdown",
      "source": [
        "# **Project Summary**\n",
        "\n",
        "\n",
        "\n"
      ],
      "metadata": {
        "id": "FJNUwmbgGyua"
      }
    },
    {
      "cell_type": "markdown",
      "source": [
        "This project focused on analysing the imbalance between ride requests and driver availability in Uber’s platform, using a real-world dataset of ride requests. The core objective was to identify when and where the demand for rides surpassed the available supply of drivers, leading to service gaps such as cancellations or instances where no cars were available. The ultimate goal was to generate insights that could support smarter driver allocation and improve customer satisfaction.\n",
        "\n",
        "\n",
        "\n",
        "To begin, the dataset—comprised of individual ride requests—underwent thorough preprocessing using Excel, Python (Pandas and NumPy), and SQL. This phase involved cleaning missing or incomplete entries, resolving inconsistencies in timestamps, and standardizing categorical variables. Special attention was paid to aligning time-related data, as the timing of ride requests played a pivotal role in identifying demand patterns.\n",
        "\n",
        "\n",
        "\n",
        "Once the data was cleaned, exploratory analysis was conducted to investigate key performance indicators. These included the total number of requests, trip statuses (such as “Completed,” “Cancelled,” or “No Cars Available”), and the relationship between request outcomes and factors like pickup point and time of day. The team introduced a time slot categorization scheme—dividing the day into Morning, Afternoon, Evening, and Night—to segment the data and make temporal trends more visible.\n",
        "\n",
        "\n",
        "\n",
        "Using pivot tables and grouped analysis, several striking patterns emerged. One of the most significant findings centered around the Airport pickup point. During early morning and evening rush hours, the volume of ride requests peaked sharply—yet driver availability did not scale with this increase in demand. As a result, a large proportion of requests either went unfulfilled due to a lack of nearby drivers or were outright cancelled. This mismatch suggested a critical service bottleneck during specific time windows and locations.\n",
        "\n",
        "\n",
        "\n",
        "Moreover, the analysis indicated that this supply-demand gap was not evenly distributed across the day or across pickup zones. While urban areas occasionally experienced similar issues, the discrepancy was far more pronounced at the Airport, which faced persistent shortages despite its high request volume. This pointed to a need for more dynamic and data-responsive driver deployment models.\n",
        "\n",
        "\n",
        "\n",
        "Based on the insights gathered, several recommendations were proposed. These included implementing a dynamic scheduling system for drivers, particularly one that adjusts driver allocation based on predicted demand in specific time slots and regions. Additionally, incentivizing drivers to operate in high-demand but under-served areas—like the Airport during peak hours—could help balance the system more effectively. Another suggestion involved leveraging real-time data to alert nearby drivers of surging demand, allowing for a quicker response to high-volume request periods.\n",
        "\n",
        "\n",
        "\n",
        "In summary, the project provided a clear illustration of how operational inefficiencies—driven by a misalignment of supply and demand—can negatively impact ride-sharing services. By combining data cleaning, statistical analysis, and pattern recognition, the study not only diagnosed the core issues but also proposed tangible solutions to improve Uber’s responsiveness and efficiency. These findings underscore the importance of proactive, data-informed decision-making in service-oriented platforms, particularly those operating in fast-paced, demand-driven environments.\n",
        "\n"
      ],
      "metadata": {
        "id": "F6v_1wHtG2nS"
      }
    },
    {
      "cell_type": "markdown",
      "source": [
        "# **GitHub Link -**"
      ],
      "metadata": {
        "id": "w6K7xa23Elo4"
      }
    },
    {
      "cell_type": "markdown",
      "source": [
        "Provide your GitHub Link here."
      ],
      "metadata": {
        "id": "h1o69JH3Eqqn"
      }
    },
    {
      "cell_type": "markdown",
      "source": [
        "# **Problem Statement**\n"
      ],
      "metadata": {
        "id": "yQaldy8SH6Dl"
      }
    },
    {
      "cell_type": "markdown",
      "source": [
        "Uber, as a ride-hailing platform, experiences high volumes of ride requests throughout the day, especially during peak commute hours. However, a significant portion of these requests either get cancelled or go unfulfilled due to the unavailability of drivers. This mismatch between supply (drivers) and demand (customers) leads to customer dissatisfaction, revenue loss, and operational inefficiencies.\n",
        "\n",
        "\n",
        "\n",
        "The objective of this project is to analyze the ride request data to identify the patterns and causes behind unfulfilled ride requests, particularly focusing on time-based and location-based factors such as pickup point, request time, and ride status. By conducting an exploratory data analysis (EDA), this project aims to uncover actionable insights that will help Uber:\n",
        "\n",
        "1. Understand when and where the request gaps occur\n",
        "\n",
        "2. Identify factors leading to ride cancellations and no car availability\n",
        "\n",
        "3. Provide data-driven recommendations to optimize driver allocation and improve customer satisfaction.\n",
        "\n",
        "\n",
        "\n",
        "The final goal is to bridge the gap between supply and demand to create a more reliable and efficient ride-booking experience."
      ],
      "metadata": {
        "id": "DpeJGUA3kjGy"
      }
    },
    {
      "cell_type": "markdown",
      "source": [
        "#### **Define Your Business Objective?**"
      ],
      "metadata": {
        "id": "PH-0ReGfmX4f"
      }
    },
    {
      "cell_type": "markdown",
      "source": [
        "The primary business objective of this project is to identify and understand the root causes of unfulfilled ride requests on the Uber platform in order to:\n",
        "\n",
        "1. Improve ride fulfillment rates by minimizing \"cancellations\" and “No Cars Available” situations.\n",
        "\n",
        "2.  Optimize driver allocation across different locations and time slots based on demand patterns.\n",
        "\n",
        "3.  Enhance customer satisfaction by reducing wait times and failed bookings.\n",
        "\n",
        "4.  Maximize revenue by ensuring more successful ride completions, especially during peak hours.\n",
        "\n",
        "5.  Support data-driven operational decisions that improve service reliability and efficiency.\n",
        "\n",
        "\n",
        "\n",
        "By achieving these goals, Uber can significantly reduce service gaps, increase platform trust, and gain a competitive advantage in the ride-hailing market."
      ],
      "metadata": {
        "id": "PhDvGCAqmjP1"
      }
    },
    {
      "cell_type": "markdown",
      "source": [
        "# **General Guidelines** : -  "
      ],
      "metadata": {
        "id": "mDgbUHAGgjLW"
      }
    },
    {
      "cell_type": "markdown",
      "source": [
        "1.   Well-structured, formatted, and commented code is required.\n",
        "2.   Exception Handling, Production Grade Code & Deployment Ready Code will be a plus. Those students will be awarded some additional credits.\n",
        "     \n",
        "     The additional credits will have advantages over other students during Star Student selection.\n",
        "       \n",
        "             [ Note: - Deployment Ready Code is defined as, the whole .ipynb notebook should be executable in one go\n",
        "                       without a single error logged. ]\n",
        "\n",
        "3.   Each and every logic should have proper comments.\n",
        "4. You may add as many number of charts you want. Make Sure for each and every chart the following format should be answered.\n",
        "        \n",
        "\n",
        "```\n",
        "# Chart visualization code\n",
        "```\n",
        "            \n",
        "\n",
        "*   Why did you pick the specific chart?\n",
        "*   What is/are the insight(s) found from the chart?\n",
        "* Will the gained insights help creating a positive business impact?\n",
        "Are there any insights that lead to negative growth? Justify with specific reason.\n",
        "\n",
        "5. You have to create at least 20 logical & meaningful charts having important insights.\n",
        "\n",
        "\n",
        "[ Hints : - Do the Vizualization in  a structured way while following \"UBM\" Rule.\n",
        "\n",
        "U - Univariate Analysis,\n",
        "\n",
        "B - Bivariate Analysis (Numerical - Categorical, Numerical - Numerical, Categorical - Categorical)\n",
        "\n",
        "M - Multivariate Analysis\n",
        " ]\n",
        "\n",
        "\n",
        "\n"
      ],
      "metadata": {
        "id": "ZrxVaUj-hHfC"
      }
    },
    {
      "cell_type": "markdown",
      "source": [
        "## ***1. Know Your Data***"
      ],
      "metadata": {
        "id": "HhfV-JJviCcP"
      }
    },
    {
      "cell_type": "markdown",
      "source": [
        "### Import Libraries"
      ],
      "metadata": {
        "id": "Y3lxredqlCYt"
      }
    },
    {
      "cell_type": "code",
      "source": [
        "# Data Handling\n",
        "import pandas as pd\n",
        "import numpy as np\n",
        "\n",
        "# Visualization\n",
        "import matplotlib.pyplot as plt\n",
        "import seaborn as sns\n",
        "sns.set(style='whitegrid')\n",
        "\n",
        "#SQL quering\n",
        "!pip install pandasql\n",
        "from pandasql import sqldf\n",
        "pysqldf= lambda q: sqldf(q, globals())\n",
        "\n",
        "#Display settings\n",
        "import warnings\n",
        "warnings.filterwarnings(\"ignore\")"
      ],
      "metadata": {
        "id": "M8Vqi-pPk-HR"
      },
      "execution_count": null,
      "outputs": []
    },
    {
      "cell_type": "markdown",
      "source": [
        "### Dataset Loading"
      ],
      "metadata": {
        "id": "3RnN4peoiCZX"
      }
    },
    {
      "cell_type": "code",
      "source": [
        "# Upload the File\n",
        "from google.colab import files\n",
        "uploaded = files.upload()"
      ],
      "metadata": {
        "id": "4CkvbW_SlZ_R"
      },
      "execution_count": null,
      "outputs": []
    },
    {
      "cell_type": "markdown",
      "source": [
        "### Dataset First View"
      ],
      "metadata": {
        "id": "x71ZqKXriCWQ"
      }
    },
    {
      "cell_type": "code",
      "source": [
        "# Dataset First Look\n",
        "import pandas as pd\n",
        "df = pd.read_csv('Uber_Request.csv')\n",
        "df.head()"
      ],
      "metadata": {
        "id": "LWNFOSvLl09H"
      },
      "execution_count": null,
      "outputs": []
    },
    {
      "cell_type": "markdown",
      "source": [
        "### Dataset Rows & Columns count"
      ],
      "metadata": {
        "id": "7hBIi_osiCS2"
      }
    },
    {
      "cell_type": "code",
      "source": [
        "# Dataset Rows & Columns count\n",
        "df.shape"
      ],
      "metadata": {
        "id": "Kllu7SJgmLij"
      },
      "execution_count": null,
      "outputs": []
    },
    {
      "cell_type": "markdown",
      "source": [
        "### Dataset Information"
      ],
      "metadata": {
        "id": "JlHwYmJAmNHm"
      }
    },
    {
      "cell_type": "code",
      "source": [
        "# Dataset Info\n",
        "df.info()"
      ],
      "metadata": {
        "id": "e9hRXRi6meOf"
      },
      "execution_count": null,
      "outputs": []
    },
    {
      "cell_type": "markdown",
      "source": [
        "#### Duplicate Values"
      ],
      "metadata": {
        "id": "35m5QtbWiB9F"
      }
    },
    {
      "cell_type": "code",
      "source": [
        "# Dataset Duplicate Value Count\n",
        "df.duplicated().sum()"
      ],
      "metadata": {
        "id": "1sLdpKYkmox0"
      },
      "execution_count": null,
      "outputs": []
    },
    {
      "cell_type": "markdown",
      "source": [
        "#### Missing Values/Null Values"
      ],
      "metadata": {
        "id": "PoPl-ycgm1ru"
      }
    },
    {
      "cell_type": "code",
      "source": [
        "# Missing Values/Null Values Count\n",
        "df.isnull().sum()"
      ],
      "metadata": {
        "id": "GgHWkxvamxVg"
      },
      "execution_count": null,
      "outputs": []
    },
    {
      "cell_type": "code",
      "source": [
        "# Visualizing the missing values\n",
        "df.isnull().sum().plot(kind='bar')\n"
      ],
      "metadata": {
        "id": "3q5wnI3om9sJ"
      },
      "execution_count": null,
      "outputs": []
    },
    {
      "cell_type": "markdown",
      "source": [
        "### What did you know about your dataset?"
      ],
      "metadata": {
        "id": "H0kj-8xxnORC"
      }
    },
    {
      "cell_type": "markdown",
      "source": [
        "The dataset contains Uber ride request records, with each row representing a ride request made by a customer. It consists of 9 columns:\n",
        "\n",
        "1. Request id – a unique identifier for each ride request\n",
        "\n",
        "2. Pickup point – indicates whether the request was from the City or Airport\n",
        "\n",
        "3. Driver id – ID of the driver who accepted the ride (if assigned)\n",
        "\n",
        "4. Status – current status of the request: Trip Completed, Cancelled, or No Cars Available\n",
        "\n",
        "5. Request timestamp – the time when the ride was requested\n",
        "\n",
        "6. Drop timestamp – the time when the ride was completed (if applicable)\n",
        "\n",
        "There are a total of 6745 rows and 9 columns.\n",
        "\n",
        "I noticed that:\n",
        "\n",
        "1. Some values in Driver id and Drop timestamp are missing due to cancellations or unassigned rides.\n",
        "\n",
        "2. Timestamps were in string format and needed conversion to datetime.\n",
        "\n",
        "3. The Status column plays a key role in identifying the supply-demand gap.\n",
        "\n",
        "4. By extracting hour and categorized each request into a time slots (Morning, Afternoon,Evening, Night) using Excel I could analyze patterns in ride fulfillment across different times of the day.\n",
        "\n",
        "Overall, the dataset allowed me to study when and where Uber faced a request gap, and what factors might have contributed to that."
      ],
      "metadata": {
        "id": "gfoNAAC-nUe_"
      }
    },
    {
      "cell_type": "markdown",
      "source": [
        "## ***2. Understanding Your Variables***"
      ],
      "metadata": {
        "id": "nA9Y7ga8ng1Z"
      }
    },
    {
      "cell_type": "code",
      "source": [
        "# Dataset Columns\n",
        "df.columns"
      ],
      "metadata": {
        "id": "j7xfkqrt5Ag5"
      },
      "execution_count": null,
      "outputs": []
    },
    {
      "cell_type": "code",
      "source": [
        "# Dataset Describe\n",
        "df.describe()"
      ],
      "metadata": {
        "id": "DnOaZdaE5Q5t"
      },
      "execution_count": null,
      "outputs": []
    },
    {
      "cell_type": "markdown",
      "source": [
        "### Variables Description"
      ],
      "metadata": {
        "id": "PBTbrJXOngz2"
      }
    },
    {
      "cell_type": "markdown",
      "source": [
        "###  Variable Description Table\n",
        "\n",
        "| **Variable Name** | **Description** | **Type** | **Purpose / Importance** |\n",
        "|------------------------|---------------------------------------------------------------------------------|--------------------|-------------------------------------------------------------------------------------------|\n",
        "| `Request id` | Unique identifier for each ride request | Integer | Used to uniquely identify each ride request |\n",
        "| `Pickup point` | Location where the user requested the ride – either \"City\" or \"Airport\" | Categorical | Helps analyze demand and supply gaps by location |\n",
        "| `Driver id` | ID of the driver who accepted the ride request (if assigned) | Float (Nullable) | Indicates whether a driver was assigned; missing for unfulfilled requests |\n",
        "| `Status` | Final state of the ride request: \"Trip Completed\", \"Cancelled\", or \"No Cars Available\" | Categorical | Crucial for identifying the ride fulfillment status and analyzing gaps |\n",
        "| `Request timestamp` | Date and time when the ride was requested | Object → DateTime | Used to extract time-based insights (hour, day, time slot) |\n",
        "| `Drop timestamp` | Date and time when the ride was completed (if applicable) | Object → DateTime | Used to calculate trip duration and identify completed trips |\n",
        "| `Hour` *(created)* | Hour of the request extracted from `Request timestamp` | Integer | Helps analyze demand patterns across different hours of the day |\n",
        "| `Time Slot` *(created)*| Time of day the request falls into: Morning, Afternoon, Evening, or Night | Categorical | Useful for segmenting and analyzing peak vs off-peak demand |\n",
        "| `Day` *(created)* | Day of the week derived from `Request timestamp` (e.g., Monday, Tuesday, etc.) | Categorical | Helpful to analyze daily ride trends and compare weekday vs weekend patterns |\n"
      ],
      "metadata": {
        "id": "aJV4KIxSnxay"
      }
    },
    {
      "cell_type": "markdown",
      "source": [
        "### Check Unique Values for each variable."
      ],
      "metadata": {
        "id": "u3PMJOP6ngxN"
      }
    },
    {
      "cell_type": "code",
      "source": [
        "# Check Unique Values for each variable.\n",
        "\n",
        "#Unique value and count for Request id\n",
        "print(\"Unique Request IDs :\", df['Request id'].nunique())\n",
        "\n",
        "#Unique values for Pickup point\n",
        "print(\"\\nUnique Pickup Points:\")\n",
        "print(df['Pickup point'].unique())\n",
        "\n",
        "#Unique values for Driver id\n",
        "print(\"\\nUnique Driver IDs:\")\n",
        "print(df['Driver id'].unique())\n",
        "\n",
        "#Unique values for Status\n",
        "print(\"\\nUnique Status:\")\n",
        "print(df['Status'].unique())\n",
        "\n",
        "#Unique values and count for Request Timestamps\n",
        "print(\"\\nUnique Request Timestamps:\", df['Request timestamp'].nunique())\n",
        "\n",
        "#Unique values and count for Drop Timestamps\n",
        "print(\"\\nUnique Drop Timestamps: including NA\", df['Drop timestamp'].nunique())\n",
        "\n",
        "#Unique values for Day (dervived Column)\n",
        "print(\"\\nUnique Days of the Week:\")\n",
        "print(df['Day '].unique())\n",
        "\n",
        "#Unique values for Hour (derived Column)\n",
        "print(\"\\nUnique Hour Values:\")\n",
        "print(sorted(df['Hour of Request'].unique()))\n",
        "\n",
        "#Unique value for Time Slot (derived Column)\n",
        "print(\"\\nUnique Time Slots:\")\n",
        "print(df['Time Slot'].unique())"
      ],
      "metadata": {
        "id": "zms12Yq5n-jE"
      },
      "execution_count": null,
      "outputs": []
    },
    {
      "cell_type": "markdown",
      "source": [
        "## 3. ***Data Wrangling***"
      ],
      "metadata": {
        "id": "dauF4eBmngu3"
      }
    },
    {
      "cell_type": "markdown",
      "source": [
        "### Data Wrangling Code"
      ],
      "metadata": {
        "id": "bKJF3rekwFvQ"
      }
    },
    {
      "cell_type": "code",
      "source": [
        "## Data Wrangling using SQL\n",
        "\n",
        "# Filtering only unfullfilled requests (Cancelled or No Cars Available)\n",
        "unfulfilled = pysqldf(\"\"\"\n",
        "SELECT *\n",
        "FROM df\n",
        "WHERE Status != 'Trip Completed'\n",
        "\"\"\")\n",
        "display(unfulfilled)"
      ],
      "metadata": {
        "id": "wk-9a2fpoLcV"
      },
      "execution_count": null,
      "outputs": []
    },
    {
      "cell_type": "code",
      "source": [
        "#Grouping unfullfilled requests by Pickup Point\n",
        "pysqldf(\"\"\"\n",
        "SELECT [Pickup point], Status, COUNT(*) AS Count\n",
        "FROM df\n",
        "WHERE Status != 'Trip Completed'\n",
        "GROUP BY [Pickup point], Status\n",
        "ORDER BY count DESC\n",
        "\"\"\")"
      ],
      "metadata": {
        "id": "PTNEJsx_SL0P"
      },
      "execution_count": null,
      "outputs": []
    },
    {
      "cell_type": "code",
      "source": [
        "# Requests per Time Slot vs Status\n",
        "\n",
        "pysqldf(\"\"\"\n",
        "SELECT [Time Slot], Status, COUNT(*) AS count\n",
        "FROM df\n",
        "GROUP BY [Time Slot], Status\n",
        "ORDER BY [Time Slot]\n",
        "\"\"\")"
      ],
      "metadata": {
        "id": "xRyag4O57764"
      },
      "execution_count": null,
      "outputs": []
    },
    {
      "cell_type": "code",
      "source": [
        "# Requests per Hour vs Status\n",
        "\n",
        "pysqldf(\"\"\"\n",
        "SELECT `Hour of Request`, Status, COUNT(*) AS count\n",
        "FROM df\n",
        "GROUP BY `Hour of Request`, Status\n",
        "ORDER BY `Hour of Request`\n",
        "\"\"\")"
      ],
      "metadata": {
        "id": "9vVtPAUt8vnB"
      },
      "execution_count": null,
      "outputs": []
    },
    {
      "cell_type": "code",
      "source": [
        "#Request Fulfillment by Day\n",
        "\n",
        "pysqldf(\"\"\"\n",
        "SELECT `Day `, Status, COUNT(*) AS count\n",
        "FROM df\n",
        "GROUP BY `Day `, Status\n",
        "ORDER BY `Day `\n",
        "\"\"\")"
      ],
      "metadata": {
        "id": "29R71y2Q-kxk"
      },
      "execution_count": null,
      "outputs": []
    },
    {
      "cell_type": "code",
      "source": [
        "# Completed vs Unfulfilled by Pickup Point\n",
        "\n",
        "pysqldf(\"\"\"\n",
        "SELECT [Pickup point],\n",
        "       SUM(CASE WHEN Status = 'Trip Completed' THEN 1 ELSE 0 END) AS Completed,\n",
        "       SUM(CASE WHEN Status != 'Trip Completed' THEN 1 ELSE 0 END) AS Unfulfilled\n",
        "       FROM df\n",
        "       GROUP BY [Pickup Point]\n",
        "       \"\"\" )"
      ],
      "metadata": {
        "id": "jS0t-zoY_YPW"
      },
      "execution_count": null,
      "outputs": []
    },
    {
      "cell_type": "markdown",
      "source": [
        "### What all manipulations have you done and insights you found?"
      ],
      "metadata": {
        "id": "MSa1f5Uengrz"
      }
    },
    {
      "cell_type": "markdown",
      "source": [
        "#### Manipulations I Performed:\n",
        "\n",
        "1. Cleaned missing values: Identified and handled missing values in Driver id and Drop timestamp, which indicated unfulfilled requests.\n",
        "\n",
        "2. Extracted date-time features:\n",
        "\n",
        "*  Derived Hour, Day, and Time Slot from the Request timestamp using Excel.\n",
        "\n",
        "3. Standardized data: Ensured column formats were consistent for analysis (e.g., date parsing).\n",
        "\n",
        "4. Filtered subsets: Used SQL queries to isolate and analyze:\n",
        "\n",
        "*   Completed vs unfulfilled requests\n",
        "*   Location-wise and time-wise performance\n",
        "\n",
        "5. Grouped and counted: Used GROUP BY in SQL to understand trends across:\n",
        "\n",
        "*   Pickup point\n",
        "*   Time Slot\n",
        "*   Day\n",
        "*   Hour of Request\n",
        "\n",
        "6. Handled duplicates: Verified that Request id values were unique.\n",
        "\n",
        "<br>\n",
        "\n",
        "#### Insights Found:\n",
        "\n",
        "\n",
        "\n",
        "1.   No Cars Available is highest at the Airport, especially during evening and early morning hours — indicating a driver shortage.\n",
        "\n",
        "2.   Cancellations are highest in the City, suggesting possible operational or behavioral issues like traffic, rider cancellations, or driver preferences.\n",
        "\n",
        "3.  Peak demand times are between 5 AM–9 AM and 5 PM–9 PM, where unfulfilled requests spike due to high traffic or driver unavailability.\n",
        "\n",
        "4. The supply-demand gap varies by pickup point and time slot, confirming the need for location- and time-specific solutions.\n",
        "\n",
        "\n",
        "\n",
        "\n",
        "\n",
        "\n",
        "\n",
        "\n",
        "\n",
        "\n",
        "\n",
        "\n",
        "\n",
        "\n",
        "\n",
        "\n",
        "\n",
        "\n",
        "\n",
        "\n",
        "\n"
      ],
      "metadata": {
        "id": "LbyXE7I1olp8"
      }
    },
    {
      "cell_type": "markdown",
      "source": [
        "## ***4. Data Vizualization, Storytelling & Experimenting with charts : Understand the relationships between variables***"
      ],
      "metadata": {
        "id": "GF8Ens_Soomf"
      }
    },
    {
      "cell_type": "markdown",
      "source": [
        "### Data Visualization using UBM Analysis\n",
        "\n",
        "This section visualizes the Uber ride request data using a structured approach:\n",
        "\n",
        "- **U – Univariate Analysis** (single variable)\n",
        "\n",
        "- **B – Bivariate Analysis** (two variables)\n",
        "\n",
        "- **M – Multivariate Analysis** (three or more variables)\n",
        "\n",
        "Each chart includes:\n",
        "\n",
        "- Why it was selected\n",
        "\n",
        "- What insights it revealed\n",
        "\n",
        "- How it affects the business (positive or negative)"
      ],
      "metadata": {
        "id": "NnJKcFcv4uEy"
      }
    },
    {
      "cell_type": "markdown",
      "source": [
        "#### Chart - 1 - Bar Chart - Count of Request Statuses"
      ],
      "metadata": {
        "id": "0wOQAZs5pc--"
      }
    },
    {
      "cell_type": "code",
      "source": [
        "# Chart - 1 visualization code\n",
        "\n",
        "sns.countplot(data=df, x='Status', palette='pastel')\n",
        "plt.title('Ride Request Status Distribution')\n",
        "plt.show()"
      ],
      "metadata": {
        "id": "7v_ESjsspbW7"
      },
      "execution_count": null,
      "outputs": []
    },
    {
      "cell_type": "markdown",
      "source": [
        "##### 1. Why did you pick the specific chart?"
      ],
      "metadata": {
        "id": "K5QZ13OEpz2H"
      }
    },
    {
      "cell_type": "markdown",
      "source": [
        "A bar chart is ideal for visualizing **categorical frequencies** (like \"Trip Completed\", \"Cancelled\", \"No Cars Available\")"
      ],
      "metadata": {
        "id": "XESiWehPqBRc"
      }
    },
    {
      "cell_type": "markdown",
      "source": [
        "##### 2. What is/are the insight(s) found from the chart?"
      ],
      "metadata": {
        "id": "lQ7QKXXCp7Bj"
      }
    },
    {
      "cell_type": "markdown",
      "source": [
        "The chart shows that a large number of rides are **unfullfilled**."
      ],
      "metadata": {
        "id": "C_j1G7yiqdRP"
      }
    },
    {
      "cell_type": "markdown",
      "source": [
        "##### 3. Will the gained insights help creating a positive business impact?\n",
        "Are there any insights that lead to negative growth? Justify with specific reason."
      ],
      "metadata": {
        "id": "448CDAPjqfQr"
      }
    },
    {
      "cell_type": "markdown",
      "source": [
        "It shows a negative impact to the business as high cancellations or no cars reduce trust, hurt brand reputation and directly cut into revenue. A high failure rate leads to customer dissatisfaction."
      ],
      "metadata": {
        "id": "3cspy4FjqxJW"
      }
    },
    {
      "cell_type": "markdown",
      "source": [
        "#### Chart - 2- Pie Chart - Proportion of Request Statuses"
      ],
      "metadata": {
        "id": "KSlN3yHqYklG"
      }
    },
    {
      "cell_type": "code",
      "source": [
        "# Chart - 2 visualization code\n",
        "\n",
        "df['Status'].value_counts().plot.pie(autopct='%1.1f%%', figsize=(6,6), colors=sns.color_palette('pastel'))\n",
        "plt.title('Ride Request Status Share')\n",
        "plt.ylabel('')\n",
        "plt.show()"
      ],
      "metadata": {
        "id": "R4YgtaqtYklH"
      },
      "execution_count": null,
      "outputs": []
    },
    {
      "cell_type": "markdown",
      "source": [
        "##### 1. Why did you pick the specific chart?"
      ],
      "metadata": {
        "id": "t6dVpIINYklI"
      }
    },
    {
      "cell_type": "markdown",
      "source": [
        "Pie Charts are good for showing **relative proportions** of categories."
      ],
      "metadata": {
        "id": "5aaW0BYyYklI"
      }
    },
    {
      "cell_type": "markdown",
      "source": [
        "##### 2. What is/are the insight(s) found from the chart?"
      ],
      "metadata": {
        "id": "ijmpgYnKYklI"
      }
    },
    {
      "cell_type": "markdown",
      "source": [
        "Less that 50% of requests are successfully completed."
      ],
      "metadata": {
        "id": "PSx9atu2YklI"
      }
    },
    {
      "cell_type": "markdown",
      "source": [
        "##### 3. Will the gained insights help creating a positive business impact?\n",
        "Are there any insights that lead to negative growth? Justify with specific reason."
      ],
      "metadata": {
        "id": "-JiQyfWJYklI"
      }
    },
    {
      "cell_type": "markdown",
      "source": [
        "It indicates a negative impact to business, an urgent need to fix fulfillment issues. It also shows a negative growth as Uber loses out on majority of potential earnings during high failure periods."
      ],
      "metadata": {
        "id": "BcBbebzrYklV"
      }
    },
    {
      "cell_type": "markdown",
      "source": [
        "#### Chart - 3 - Histogram - Ride Requests by Hour"
      ],
      "metadata": {
        "id": "EM7whBJCYoAo"
      }
    },
    {
      "cell_type": "code",
      "source": [
        "# Chart - 3 visualization code\n",
        "plt.hist(df['Hour of Request'], bins=24, color='skyblue', edgecolor='Black')\n",
        "plt.title('Distribution of Requests by Hour')\n",
        "plt.xlabel('Hour of the Day')\n",
        "plt.ylabel('Request Count')\n",
        "plt.show()"
      ],
      "metadata": {
        "id": "t6GMdE67YoAp"
      },
      "execution_count": null,
      "outputs": []
    },
    {
      "cell_type": "markdown",
      "source": [
        "##### 1. Why did you pick the specific chart?"
      ],
      "metadata": {
        "id": "fge-S5ZAYoAp"
      }
    },
    {
      "cell_type": "markdown",
      "source": [
        "Histograms are best for showing **frequecy distribution** over continuous data like time."
      ],
      "metadata": {
        "id": "5dBItgRVYoAp"
      }
    },
    {
      "cell_type": "markdown",
      "source": [
        "##### 2. What is/are the insight(s) found from the chart?"
      ],
      "metadata": {
        "id": "85gYPyotYoAp"
      }
    },
    {
      "cell_type": "markdown",
      "source": [
        "The insights from the chart highlight two clear **demand peaks** from morning (5 - 9 AM) and evening (5 - 9 PM)"
      ],
      "metadata": {
        "id": "4jstXR6OYoAp"
      }
    },
    {
      "cell_type": "markdown",
      "source": [
        "##### 3. Will the gained insights help creating a positive business impact?\n",
        "Are there any insights that lead to negative growth? Justify with specific reason."
      ],
      "metadata": {
        "id": "RoGjAbkUYoAp"
      }
    },
    {
      "cell_type": "markdown",
      "source": [
        "The insights helps optimize driver shifts to meet demand. But if driver supply isn't aligned, customers may leave for competitors during peaks."
      ],
      "metadata": {
        "id": "zfJ8IqMcYoAp"
      }
    },
    {
      "cell_type": "markdown",
      "source": [
        "#### Chart - 4 - Donut Chart - Pickup point Distribution"
      ],
      "metadata": {
        "id": "4Of9eVA-YrdM"
      }
    },
    {
      "cell_type": "code",
      "source": [
        "# Chart - 4 visualization code\n",
        "\n",
        "pickup_counts = df['Pickup point'].value_counts()\n",
        "plt.pie(pickup_counts, labels=pickup_counts.index, autopct='%1.1f%%', startangle=90, colors=sns.color_palette('Set2'))\n",
        "plt.gca().add_artist(plt.Circle((0,0),0.70,fc='white'))  ##donut hole\n",
        "plt.title('Pickup Point Distribution')\n",
        "plt.axis('equal')\n",
        "plt.show()"
      ],
      "metadata": {
        "id": "irlUoxc8YrdO"
      },
      "execution_count": null,
      "outputs": []
    },
    {
      "cell_type": "code",
      "source": [],
      "metadata": {
        "id": "7OcrCC0Ii7Aa"
      },
      "execution_count": null,
      "outputs": []
    },
    {
      "cell_type": "markdown",
      "source": [
        "##### 1. Why did you pick the specific chart?"
      ],
      "metadata": {
        "id": "iky9q4vBYrdO"
      }
    },
    {
      "cell_type": "markdown",
      "source": [
        "Similar to Pie Chart but better visibility with Central focus. This chart is ideal when comparing two categories."
      ],
      "metadata": {
        "id": "aJRCwT6DYrdO"
      }
    },
    {
      "cell_type": "markdown",
      "source": [
        "##### 2. What is/are the insight(s) found from the chart?"
      ],
      "metadata": {
        "id": "F6T5p64dYrdO"
      }
    },
    {
      "cell_type": "markdown",
      "source": [
        "Requests are split amost evenly between **City** and **Airport**."
      ],
      "metadata": {
        "id": "Xx8WAJvtYrdO"
      }
    },
    {
      "cell_type": "markdown",
      "source": [
        "##### 3. Will the gained insights help creating a positive business impact?\n",
        "Are there any insights that lead to negative growth? Justify with specific reason."
      ],
      "metadata": {
        "id": "y-Ehk30pYrdP"
      }
    },
    {
      "cell_type": "markdown",
      "source": [
        "It shows a positive impact that helps balance resource allocation by pickup point. But, if more focus is given to one area, the other suffers."
      ],
      "metadata": {
        "id": "jLNxxz7MYrdP"
      }
    },
    {
      "cell_type": "markdown",
      "source": [
        "#### Chart - 5 - Box Plot -  Request Hour Distibution"
      ],
      "metadata": {
        "id": "bamQiAODYuh1"
      }
    },
    {
      "cell_type": "code",
      "source": [
        "# Chart - 5 visualization code\n",
        "\n",
        "sns.boxplot(x=df['Hour of Request'], color='lightgreen')\n",
        "plt.title('Box Plot of Request Hours')\n",
        "plt.xlabel('Hour')\n",
        "plt.show()"
      ],
      "metadata": {
        "id": "TIJwrbroYuh3"
      },
      "execution_count": null,
      "outputs": []
    },
    {
      "cell_type": "markdown",
      "source": [
        "##### 1. Why did you pick the specific chart?"
      ],
      "metadata": {
        "id": "QHF8YVU7Yuh3"
      }
    },
    {
      "cell_type": "markdown",
      "source": [
        "Box Plot summarizes **distibution, central tendency and outliers** in a compact format."
      ],
      "metadata": {
        "id": "dcxuIMRPYuh3"
      }
    },
    {
      "cell_type": "markdown",
      "source": [
        "##### 2. What is/are the insight(s) found from the chart?"
      ],
      "metadata": {
        "id": "GwzvFGzlYuh3"
      }
    },
    {
      "cell_type": "markdown",
      "source": [
        "The chart points out the most requests fall within specific time windows (commute hours)."
      ],
      "metadata": {
        "id": "uyqkiB8YYuh3"
      }
    },
    {
      "cell_type": "markdown",
      "source": [
        "##### 3. Will the gained insights help creating a positive business impact?\n",
        "Are there any insights that lead to negative growth? Justify with specific reason."
      ],
      "metadata": {
        "id": "qYpmQ266Yuh3"
      }
    },
    {
      "cell_type": "markdown",
      "source": [
        "The insight enables Uber to target surge pricing and better driver availability. But not acting on this insight means poor peak-hour fulfillment."
      ],
      "metadata": {
        "id": "_WtzZ_hCYuh4"
      }
    },
    {
      "cell_type": "markdown",
      "source": [
        "#### Chart - 6 - Grouped Bar Chart - Pickup Point vs Status"
      ],
      "metadata": {
        "id": "OH-pJp9IphqM"
      }
    },
    {
      "cell_type": "code",
      "source": [
        "# Chart - 6 visualization code\n",
        "sns.countplot(x='Pickup point', hue='Status', data=df, palette='Set3')\n",
        "plt.title('Pickup Point vs Ride Status')\n",
        "plt.show()\n"
      ],
      "metadata": {
        "id": "kuRf4wtuphqN"
      },
      "execution_count": null,
      "outputs": []
    },
    {
      "cell_type": "markdown",
      "source": [
        "##### 1. Why did you pick the specific chart?"
      ],
      "metadata": {
        "id": "bbFf2-_FphqN"
      }
    },
    {
      "cell_type": "markdown",
      "source": [
        "It compares two categorical variables. It clearly shows **status variation across pickup locations**."
      ],
      "metadata": {
        "id": "loh7H2nzphqN"
      }
    },
    {
      "cell_type": "markdown",
      "source": [
        "##### 2. What is/are the insight(s) found from the chart?"
      ],
      "metadata": {
        "id": "_ouA3fa0phqN"
      }
    },
    {
      "cell_type": "markdown",
      "source": [
        "\"No Cars Available\" is high at **Airport**, \"Cancelled\" is high in **City**."
      ],
      "metadata": {
        "id": "VECbqPI7phqN"
      }
    },
    {
      "cell_type": "markdown",
      "source": [
        "##### 3. Will the gained insights help creating a positive business impact?\n",
        "Are there any insights that lead to negative growth? Justify with specific reason."
      ],
      "metadata": {
        "id": "Seke61FWphqN"
      }
    },
    {
      "cell_type": "markdown",
      "source": [
        "It shows a negative business impact, location-specific issues need seperate staregies. Ignoring this means continued regional underperformance."
      ],
      "metadata": {
        "id": "DW4_bGpfphqN"
      }
    },
    {
      "cell_type": "markdown",
      "source": [
        "#### Chart - 7 - Violin Plot - Hour vs Status"
      ],
      "metadata": {
        "id": "PIIx-8_IphqN"
      }
    },
    {
      "cell_type": "code",
      "source": [
        "# Chart - 7 visualization code\n",
        "sns.violinplot(data=df, x='Status', y='Hour of Request', palette='muted')\n",
        "plt.title('Request Hour Distribution by Status')\n",
        "plt.show()"
      ],
      "metadata": {
        "id": "lqAIGUfyphqO"
      },
      "execution_count": null,
      "outputs": []
    },
    {
      "cell_type": "markdown",
      "source": [
        "##### 1. Why did you pick the specific chart?"
      ],
      "metadata": {
        "id": "t27r6nlMphqO"
      }
    },
    {
      "cell_type": "markdown",
      "source": [
        "It combines box plot and KDE plot to show **distribution & density** by category."
      ],
      "metadata": {
        "id": "iv6ro40sphqO"
      }
    },
    {
      "cell_type": "markdown",
      "source": [
        "##### 2. What is/are the insight(s) found from the chart?"
      ],
      "metadata": {
        "id": "r2jJGEOYphqO"
      }
    },
    {
      "cell_type": "markdown",
      "source": [
        "The chart highlights the unfullfilled rides that cluster around peak hours. Unfullfilled requests occur more during early and late hours."
      ],
      "metadata": {
        "id": "RCv1JJMJ8Fxy"
      }
    },
    {
      "cell_type": "markdown",
      "source": [
        "##### 3. Will the gained insights help creating a positive business impact?\n",
        "Are there any insights that lead to negative growth? Justify with specific reason."
      ],
      "metadata": {
        "id": "b0JNsNcRphqO"
      }
    },
    {
      "cell_type": "markdown",
      "source": [
        "It shows a negative imapct on business, low availability during odd hours results in missed rides. Demand exists but supply mismatch leads to loss."
      ],
      "metadata": {
        "id": "xvSq8iUTphqO"
      }
    },
    {
      "cell_type": "markdown",
      "source": [
        "#### Chart - 8 - Countplot - Timeslot vs Status"
      ],
      "metadata": {
        "id": "BZR9WyysphqO"
      }
    },
    {
      "cell_type": "code",
      "source": [
        "# Chart - 8 visualization code\n",
        "\n",
        "sns.countplot(x='Time Slot', hue='Status', data=df, palette='Set2')\n",
        "plt.title('Time Slot vs Ride Status')\n",
        "plt.show()"
      ],
      "metadata": {
        "id": "TdPTWpAVphqO"
      },
      "execution_count": null,
      "outputs": []
    },
    {
      "cell_type": "markdown",
      "source": [
        "##### 1. Why did you pick the specific chart?"
      ],
      "metadata": {
        "id": "jj7wYXLtphqO"
      }
    },
    {
      "cell_type": "markdown",
      "source": [
        "Countplot chart is ideal for analyzing the relationship between two categorical varaiables. In here, it is Time slot & Status."
      ],
      "metadata": {
        "id": "Ob8u6rCTphqO"
      }
    },
    {
      "cell_type": "markdown",
      "source": [
        "##### 2. What is/are the insight(s) found from the chart?"
      ],
      "metadata": {
        "id": "eZrbJ2SmphqO"
      }
    },
    {
      "cell_type": "markdown",
      "source": [
        "Morning and Night slots have more failed rides."
      ],
      "metadata": {
        "id": "mZtgC_hjphqO"
      }
    },
    {
      "cell_type": "markdown",
      "source": [
        "##### 3. Will the gained insights help creating a positive business impact?\n",
        "Are there any insights that lead to negative growth? Justify with specific reason."
      ],
      "metadata": {
        "id": "rFu4xreNphqO"
      }
    },
    {
      "cell_type": "markdown",
      "source": [
        "This shows a negative imapact to business unless addressed by timely driver allocation. Persistent service gaps in high-demand slots harm loyalty."
      ],
      "metadata": {
        "id": "ey_0qi68phqO"
      }
    },
    {
      "cell_type": "markdown",
      "source": [
        "#### Chart - 9 - Facet Grid - Time slot vs Status vs Pickup Point"
      ],
      "metadata": {
        "id": "YJ55k-q6phqO"
      }
    },
    {
      "cell_type": "code",
      "source": [
        "# Chart - 9 visualization code\n",
        "\n",
        "g = sns.catplot(data=df, x='Time Slot', hue='Status', col='Pickup point', kind='count', palette='husl')\n",
        "g.fig.subplots_adjust(top=0.8)\n",
        "g.fig.suptitle('Time Slot vs Status by Pickup Point')\n",
        "plt.show()"
      ],
      "metadata": {
        "id": "B2aS4O1ophqO"
      },
      "execution_count": null,
      "outputs": []
    },
    {
      "cell_type": "markdown",
      "source": [
        "##### 1. Why did you pick the specific chart?"
      ],
      "metadata": {
        "id": "gCFgpxoyphqP"
      }
    },
    {
      "cell_type": "markdown",
      "source": [
        "This chart allows multidimensional analysis by splitting plots."
      ],
      "metadata": {
        "id": "TVxDimi2phqP"
      }
    },
    {
      "cell_type": "markdown",
      "source": [
        "##### 2. What is/are the insight(s) found from the chart?"
      ],
      "metadata": {
        "id": "OVtJsKN_phqQ"
      }
    },
    {
      "cell_type": "markdown",
      "source": [
        "Airport's evening time has the **higher no car issue**."
      ],
      "metadata": {
        "id": "ngGi97qjphqQ"
      }
    },
    {
      "cell_type": "markdown",
      "source": [
        "##### 3. Will the gained insights help creating a positive business impact?\n",
        "Are there any insights that lead to negative growth? Justify with specific reason."
      ],
      "metadata": {
        "id": "lssrdh5qphqQ"
      }
    },
    {
      "cell_type": "markdown",
      "source": [
        "It can impact positively the business if used to tailor scheduling policies. Not resolving this leads to unmet demand in high-traffic locations."
      ],
      "metadata": {
        "id": "tBpY5ekJphqQ"
      }
    },
    {
      "cell_type": "markdown",
      "source": [
        "#### Chart - 10 - Heatmap - Hour vs Status"
      ],
      "metadata": {
        "id": "U2RJ9gkRphqQ"
      }
    },
    {
      "cell_type": "code",
      "source": [
        "# Chart - 10 visualization code\n",
        "heat_data = pd.crosstab(df['Hour of Request'], df['Status'])\n",
        "sns.heatmap(heat_data, annot=True, fmt='d', cmap='YlGnBu')\n",
        "plt.title('Request Status by Hour')\n",
        "plt.xlabel('Status')\n",
        "plt.ylabel('Hour')\n",
        "plt.show()"
      ],
      "metadata": {
        "id": "GM7a4YP4phqQ"
      },
      "execution_count": null,
      "outputs": []
    },
    {
      "cell_type": "markdown",
      "source": [
        "##### 1. Why did you pick the specific chart?"
      ],
      "metadata": {
        "id": "1M8mcRywphqQ"
      }
    },
    {
      "cell_type": "markdown",
      "source": [
        "This chart shows **intensity and patterns** over time in multivariate cases."
      ],
      "metadata": {
        "id": "8agQvks0phqQ"
      }
    },
    {
      "cell_type": "markdown",
      "source": [
        "##### 2. What is/are the insight(s) found from the chart?"
      ],
      "metadata": {
        "id": "tgIPom80phqQ"
      }
    },
    {
      "cell_type": "markdown",
      "source": [
        "Most failed rides are clustered in early mornings late evenings."
      ],
      "metadata": {
        "id": "Qp13pnNzphqQ"
      }
    },
    {
      "cell_type": "markdown",
      "source": [
        "##### 3. Will the gained insights help creating a positive business impact?\n",
        "Are there any insights that lead to negative growth? Justify with specific reason."
      ],
      "metadata": {
        "id": "JMzcOPDDphqR"
      }
    },
    {
      "cell_type": "markdown",
      "source": [
        "It will help in creating a positive impact for business if corrected with incentives or auto-dispatch."
      ],
      "metadata": {
        "id": "R4Ka1PC2phqR"
      }
    },
    {
      "cell_type": "markdown",
      "source": [
        "#### Chart - 11 - Line Chart - Request Volume Over Hours (Completed vs Not)"
      ],
      "metadata": {
        "id": "x-EpHcCOp1ci"
      }
    },
    {
      "cell_type": "code",
      "source": [
        "# Chart - 11 visualization code\n",
        "\n",
        "hourly_status = df.groupby(['Hour of Request', 'Status']).size().unstack().fillna(0)\n",
        "hourly_status[['Trip Completed', 'Cancelled', 'No Cars Available']].plot(kind='line', figsize=(10,5))\n",
        "plt.title('Hourly Ride Status Trend')\n",
        "plt.xlabel('Hour')\n",
        "plt.ylabel('Request Count')\n",
        "plt.grid(True)\n",
        "plt.show()"
      ],
      "metadata": {
        "id": "mAQTIvtqp1cj"
      },
      "execution_count": null,
      "outputs": []
    },
    {
      "cell_type": "markdown",
      "source": [
        "##### 1. Why did you pick the specific chart?"
      ],
      "metadata": {
        "id": "X_VqEhTip1ck"
      }
    },
    {
      "cell_type": "markdown",
      "source": [
        "Line charts are great for plotting **changes over time**. It spots patterns, peaks and drops in service performance over time. Which directly supports in identifying the Uber request gap."
      ],
      "metadata": {
        "id": "-vsMzt_np1ck"
      }
    },
    {
      "cell_type": "markdown",
      "source": [
        "##### 2. What is/are the insight(s) found from the chart?"
      ],
      "metadata": {
        "id": "8zGJKyg5p1ck"
      }
    },
    {
      "cell_type": "markdown",
      "source": [
        "During peak hours the **total number of ride requests increases,** but the number of \"**Trip Completed**\" rides **does not increase at the same rate**.The insight highlights a **critical operational inefficiency**."
      ],
      "metadata": {
        "id": "ZYdMsrqVp1ck"
      }
    },
    {
      "cell_type": "markdown",
      "source": [
        "##### 3. Will the gained insights help creating a positive business impact?\n",
        "Are there any insights that lead to negative growth? Justify with specific reason."
      ],
      "metadata": {
        "id": "PVzmfK_Ep1ck"
      }
    },
    {
      "cell_type": "markdown",
      "source": [
        "It shows Uber is not scaling fulfillment with demand. Very high risk if demand keeps growing unserved."
      ],
      "metadata": {
        "id": "druuKYZpp1ck"
      }
    },
    {
      "cell_type": "markdown",
      "source": [
        "#### Chart - 12 - Stacked Area Chart - Hourly demand Composition"
      ],
      "metadata": {
        "id": "n3dbpmDWp1ck"
      }
    },
    {
      "cell_type": "code",
      "source": [
        "# Chart - 12 visualization code\n",
        "\n",
        "hourly_status.plot(kind='area', stacked=True, figsize=(10,5), colormap='Set2')\n",
        "plt.title('Hourly Breakdown of Ride Requests by Status')\n",
        "plt.xlabel('Hour')\n",
        "plt.ylabel('Total Requests')\n",
        "plt.show()"
      ],
      "metadata": {
        "id": "bwevp1tKp1ck"
      },
      "execution_count": null,
      "outputs": []
    },
    {
      "cell_type": "markdown",
      "source": [
        "##### 1. Why did you pick the specific chart?"
      ],
      "metadata": {
        "id": "ylSl6qgtp1ck"
      }
    },
    {
      "cell_type": "markdown",
      "source": [
        "It shows **how total volume is made up** by each status category."
      ],
      "metadata": {
        "id": "m2xqNkiQp1ck"
      }
    },
    {
      "cell_type": "markdown",
      "source": [
        "##### 2. What is/are the insight(s) found from the chart?"
      ],
      "metadata": {
        "id": "ZWILFDl5p1ck"
      }
    },
    {
      "cell_type": "markdown",
      "source": [
        "Most of the request volume during peak is **unfulfilled**."
      ],
      "metadata": {
        "id": "x-lUsV2mp1ck"
      }
    },
    {
      "cell_type": "markdown",
      "source": [
        "##### 3. Will the gained insights help creating a positive business impact?\n",
        "Are there any insights that lead to negative growth? Justify with specific reason."
      ],
      "metadata": {
        "id": "M7G43BXep1ck"
      }
    },
    {
      "cell_type": "markdown",
      "source": [
        "It shows a negative impact to business which suggests supply planning is not keeping up to demand."
      ],
      "metadata": {
        "id": "5wwDJXsLp1cl"
      }
    },
    {
      "cell_type": "markdown",
      "source": [
        "## **5. Solution to Business Objective**"
      ],
      "metadata": {
        "id": "JcMwzZxoAimU"
      }
    },
    {
      "cell_type": "markdown",
      "source": [
        "#### What do you suggest the client to achieve Business Objective ?\n",
        "Explain Briefly."
      ],
      "metadata": {
        "id": "8G2x9gOozGDZ"
      }
    },
    {
      "cell_type": "markdown",
      "source": [
        "1. Improve Ride Fulfillment Rates\n",
        "\n",
        "Ensure more requests are completed by identifying peak-demand hours (early mornings and late evenings) and locations, and then encouraging more drivers to be online during those times using incentives or bonuses.\n",
        "\n",
        " 2. Optimize Driver Allocation\n",
        "\n",
        "Use data to pinpoint where and when ride demand is high (like Airport in the evening). Shift idle drivers or offer targeted incentives to ensure better supply in those areas and hours.\n",
        "\n",
        " 3. Enhance Customer Satisfaction\n",
        "\n",
        "Minimize cancellations and no-car issues by improving driver availability, offering more accurate wait time estimates, and suggesting better time slots for smoother booking.\n",
        "\n",
        " 4. Maximize Revenue During Peak Hours\n",
        "\n",
        "Focus on reducing lost trips during busy hours (like 5–9 AM and 5–9 PM) by pre-scheduling drivers, using surge pricing smartly, and offering customers priority pickup options.\n",
        "\n",
        " 5. Support Data-Driven Operations\n",
        "\n",
        "Build dashboards and use predictive models to monitor real-time gaps, forecast demand, and make quick adjustments in driver deployment and strategy."
      ],
      "metadata": {
        "id": "pASKb0qOza21"
      }
    },
    {
      "cell_type": "markdown",
      "source": [
        "# **Conclusion**"
      ],
      "metadata": {
        "id": "gCX9965dhzqZ"
      }
    },
    {
      "cell_type": "markdown",
      "source": [
        "This exploratory data analysis of Uber ride request data revealed critical gaps between ride demand and service availability, especially during peak commute hours. Through a combination of Excel, SQL, and Python-based visualizations, we identified the key factors contributing to unfulfilled ride requests—primarily driver unavailability at the Airport during evening hours and frequent cancellations in the City during mornings.\n",
        "\n",
        "<br>\n",
        "\n",
        "Key patterns showed that while ride requests increase significantly during certain time slots, the fulfillment rate does not scale accordingly. This mismatch results in lost revenue, reduced customer satisfaction, and operational inefficiencies.\n",
        "\n",
        "<br>\n",
        "\n",
        "\n",
        "\n",
        "By analyzing variables such as time of request, pickup point, and ride status, we gained valuable insights that can help Uber:\n",
        "\n",
        "1. Optimize driver allocation by time and location\n",
        "\n",
        "2. Reduce cancellations and “No Cars Available” incidents\n",
        "\n",
        "3. Improve customer experience during high-demand periods\n",
        "\n",
        "Make data-driven decisions to enhance overall service reliability\n",
        "\n",
        "<br>\n",
        "\n",
        "If implemented, the recommended strategies can significantly improve Uber’s service performance, retain customers, and maximize revenue, ultimately closing the gap between ride request and ride completion."
      ],
      "metadata": {
        "id": "Fjb1IsQkh3yE"
      }
    }
  ]
}